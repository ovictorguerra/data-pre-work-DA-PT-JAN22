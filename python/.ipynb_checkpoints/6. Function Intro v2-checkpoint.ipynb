{
 "cells": [
  {
   "cell_type": "markdown",
   "metadata": {},
   "source": [
    "Create a \"generation calculator\" to help determine the generation you belong to according to your birth year. Follow the below information:\n",
    "\n",
    "```\n",
    "+-----------------+---------------------+\n",
    "|  birth_year     |      generation     |\n",
    "+-----------------+---------------------+\n",
    "|     < 1949      |  silent generation  |\n",
    "+-----------------+---------------------+\n",
    "|     < 1969      |     baby boomer     |\n",
    "+-----------------+---------------------+\n",
    "|     < 1981      |     X generation    | \n",
    "+-----------------+---------------------+\n",
    "|     < 1994      |      millennial     | \n",
    "+-----------------+---------------------+\n",
    "|     > 1994      |    Z generation     | \n",
    "+-----------------+---------------------+\n",
    "```\n",
    "\n",
    "Let's add some \"fake\" users whose data we will be using to validate if the function gives us the correct and expected result."
   ]
  },
  {
   "cell_type": "code",
   "execution_count": 20,
   "metadata": {},
   "outputs": [
    {
     "name": "stdout",
     "output_type": "stream",
     "text": [
      "You belong to the Z generation\n"
     ]
    }
   ],
   "source": [
    "def generationCalculator(birthYear):\n",
    "    if birthYear < 1949:\n",
    "        print('You belong to the Silent generation')\n",
    "    elif birthYear < 1969:\n",
    "        print('You belong to the Baby Boomer generation')\n",
    "    elif birthYear < 1981:\n",
    "        print('You belong to the X generation')\n",
    "    elif birthYear <= 1994:\n",
    "        print('You belong to the Millennial generation')\n",
    "    elif birthYear > 1994:\n",
    "        print('You belong to the Z generation')\n",
    "    else:\n",
    "        print('You belong to an unknown generation')\n",
    "        \n",
    "generationCalculator(1998)"
   ]
  },
  {
   "cell_type": "markdown",
   "metadata": {},
   "source": [
    "Let's add some \"fake\" users whose data we will be using to validate if the function gives us the correct and expected result."
   ]
  },
  {
   "cell_type": "code",
   "execution_count": 28,
   "metadata": {},
   "outputs": [
    {
     "name": "stdout",
     "output_type": "stream",
     "text": [
      "Lorena belong to the Millennial generation\n"
     ]
    }
   ],
   "source": [
    "def generationCalculator(name, birthYear):\n",
    "    if birthYear < 1049:\n",
    "        print(f'{name} belong to the Silent generation')\n",
    "    elif birthYear < 1969:\n",
    "        print(f'{name} belong to the Baby Boomer generation')\n",
    "    elif birthYear < 1981:\n",
    "        print(f'{name} belong to the X generation')\n",
    "    elif birthYear <= 1994:\n",
    "        print(f'{name} belong to the Millennial generation')\n",
    "    elif birthYear > 1994:\n",
    "        print(f'{name} belong to the Z generation')\n",
    "    else:\n",
    "        print(f'{name} belong to an unknown generation')\n",
    "        \n",
    "generationCalculator('Lorena', 1994)"
   ]
  }
 ],
 "metadata": {
  "kernelspec": {
   "display_name": "Python 3 (ipykernel)",
   "language": "python",
   "name": "python3"
  },
  "language_info": {
   "codemirror_mode": {
    "name": "ipython",
    "version": 3
   },
   "file_extension": ".py",
   "mimetype": "text/x-python",
   "name": "python",
   "nbconvert_exporter": "python",
   "pygments_lexer": "ipython3",
   "version": "3.7.6"
  }
 },
 "nbformat": 4,
 "nbformat_minor": 4
}
