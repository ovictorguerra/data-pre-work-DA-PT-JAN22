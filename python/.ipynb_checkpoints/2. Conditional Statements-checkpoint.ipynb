{
 "cells": [
  {
   "cell_type": "markdown",
   "metadata": {},
   "source": [
    "### Try out the code : What will happen if 'a' and 'b' have the same value\n",
    "Assign same other value to the variables 'a' and 'b' and see the results "
   ]
  },
  {
   "cell_type": "code",
   "execution_count": 1,
   "metadata": {},
   "outputs": [
    {
     "data": {
      "text/plain": [
       "True"
      ]
     },
     "execution_count": 1,
     "metadata": {},
     "output_type": "execute_result"
    }
   ],
   "source": [
    "a = 2 \n",
    "b = a\n",
    "\n",
    "a == b"
   ]
  },
  {
   "cell_type": "markdown",
   "metadata": {},
   "source": [
    "1. Ask the user to input a number (should be integer). Check if the number is even or odd. Remember that 0 is neither even nor odd. Note, when you would use the `input` function, by default it is string. You would have to use type conversion to convert it into integer."
   ]
  },
  {
   "cell_type": "code",
   "execution_count": 18,
   "metadata": {},
   "outputs": [
    {
     "name": "stdout",
     "output_type": "stream",
     "text": [
      "Enter an integer number: 5\n",
      "The number is Odd\n"
     ]
    }
   ],
   "source": [
    "a = input(\"Enter an integer number: \")\n",
    "\n",
    "\n",
    "\n",
    "if a % 2 == 0 and a != 0:\n",
    "    print(\"The number is Even\")\n",
    "elif a == 0:\n",
    "    print(\"The number 0 is neutral\")\n",
    "else:\n",
    "    print(\"The number is Odd\")"
   ]
  },
  {
   "cell_type": "markdown",
   "metadata": {},
   "source": [
    "2. Ask the user to input a number (should be integer). Check whether the number is zero, positive or negative"
   ]
  },
  {
   "cell_type": "code",
   "execution_count": 2,
   "metadata": {},
   "outputs": [
    {
     "name": "stdout",
     "output_type": "stream",
     "text": [
      "Enter any number5\n",
      "The number 5 is positive\n"
     ]
    }
   ],
   "source": [
    "n = int(input(\"Enter any number\"))\n",
    "\n",
    "if n == 0:\n",
    "    print(f'The number {n} is neither positive nor negative')\n",
    "elif n > 0:\n",
    "    print(f'The number {n} is positive')\n",
    "else:\n",
    "    print(f'The number {n} is negative')"
   ]
  },
  {
   "cell_type": "code",
   "execution_count": 14,
   "metadata": {},
   "outputs": [
    {
     "name": "stdout",
     "output_type": "stream",
     "text": [
      "Enter note 1(Insert number between 0 and 100): 25\n",
      "The note is E\n"
     ]
    }
   ],
   "source": [
    "n = int(input('Enter note 1(Insert number between 0 and 100): '))\n",
    "\n",
    "if n > 90:\n",
    "    print('The note is A')\n",
    "elif 75 < n <= 90:\n",
    "    print('The note is B')\n",
    "elif 60 < n <= 75:\n",
    "    print('The note is C')\n",
    "elif 45 < n <= 60:\n",
    "    print('The note is D')\n",
    "elif 25 <= n <= 45:\n",
    "    print('The note is E')\n",
    "else:\n",
    "    print('The note is F')"
   ]
  },
  {
   "cell_type": "markdown",
   "metadata": {},
   "source": [
    "4. In problem 1 we asked you to write a code to enter an integer and then check if that number is even or not. \n",
    "What if the user inputs a wrong input accidentally. Then the code should not break. We should prompt the user \n",
    "if the input entered was incorrect. \n",
    "Now try and make this code more robust by first checking if the entered input is a number or not. If the number \n",
    "entered is an integer, only then check if it is even or not. "
   ]
  },
  {
   "cell_type": "code",
   "execution_count": 20,
   "metadata": {},
   "outputs": [
    {
     "name": "stdout",
     "output_type": "stream",
     "text": [
      "Enter an integer number: 10\n",
      "The number is Even\n"
     ]
    }
   ],
   "source": [
    "a = input(\"Enter an integer number: \")\n",
    "\n",
    "if a.isdigit():\n",
    "    a = int(a)\n",
    "\n",
    "if a % 2 == 0 and a != 0:\n",
    "    print(\"The number is Even\")\n",
    "elif a == 0:\n",
    "    print(\"The number 0 is neutral\")\n",
    "else:\n",
    "    print(\"The number is Odd\")"
   ]
  }
 ],
 "metadata": {
  "kernelspec": {
   "display_name": "Python 3 (ipykernel)",
   "language": "python",
   "name": "python3"
  },
  "language_info": {
   "codemirror_mode": {
    "name": "ipython",
    "version": 3
   },
   "file_extension": ".py",
   "mimetype": "text/x-python",
   "name": "python",
   "nbconvert_exporter": "python",
   "pygments_lexer": "ipython3",
   "version": "3.7.6"
  }
 },
 "nbformat": 4,
 "nbformat_minor": 4
}
